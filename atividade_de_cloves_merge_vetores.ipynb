{
  "nbformat": 4,
  "nbformat_minor": 0,
  "metadata": {
    "colab": {
      "provenance": [],
      "authorship_tag": "ABX9TyPJf90JYH9HIFprP1g8NBW8",
      "include_colab_link": true
    },
    "kernelspec": {
      "name": "python3",
      "display_name": "Python 3"
    },
    "language_info": {
      "name": "python"
    }
  },
  "cells": [
    {
      "cell_type": "markdown",
      "metadata": {
        "id": "view-in-github",
        "colab_type": "text"
      },
      "source": [
        "<a href=\"https://colab.research.google.com/github/allanaaquinox/merge-vetores/blob/main/atividade_de_cloves_merge_vetores.ipynb\" target=\"_parent\"><img src=\"https://colab.research.google.com/assets/colab-badge.svg\" alt=\"Open In Colab\"/></a>"
      ]
    },
    {
      "cell_type": "code",
      "execution_count": 5,
      "metadata": {
        "colab": {
          "base_uri": "https://localhost:8080/"
        },
        "id": "dnjdfeKvwin-",
        "outputId": "4263840d-c376-4837-c554-dc1284e65d03"
      },
      "outputs": [
        {
          "output_type": "stream",
          "name": "stdout",
          "text": [
            "[1, 2, 3, 4, 5, 6, 7, 8, 9, 10]\n"
          ]
        }
      ],
      "source": [
        "def merge_vet(vetor1, vetor2):\n",
        "    tam1 = len(vetor1)\n",
        "    tam2 = len(vetor2)\n",
        "    resultado = []\n",
        "    linha1 = 0  \n",
        "    linha2 = 0  \n",
        "\n",
        "  \n",
        "    while linha1 < tam1 and linha2 < tam2:\n",
        "        if vetor1[linha1] <= vetor2[linha2]:\n",
        "            resultado.append(vetor1[linha1])\n",
        "            linha1 += 1\n",
        "        else:\n",
        "            resultado.append(vetor2[linha2])\n",
        "            linha2 += 1\n",
        "\n",
        "    while linha1 < tam1:\n",
        "        resultado.append(vetor1[linha1])\n",
        "        linha1 += 1\n",
        "\n",
        "    while linha2 < tam2:\n",
        "        resultado.append(vetor2[linha2])\n",
        "        linha2 += 1\n",
        "\n",
        "    return resultado\n",
        "\n",
        "vetor1 = [1, 3, 5, 7, 9]\n",
        "vetor2 = [2, 4, 6, 8, 10]\n",
        "resultado = merge_vet(vetor1, vetor2)\n",
        "print(resultado)"
      ]
    }
  ]
}